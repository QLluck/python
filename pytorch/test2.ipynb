{
 "cells": [
  {
   "cell_type": "code",
   "execution_count": 2,
   "id": "0cf0c9f4-1f68-4496-bc81-85c1cd3f5ec7",
   "metadata": {},
   "outputs": [],
   "source": [
    "import numpy as np\n",
    "import pandas as pd\n",
    "import matplotlib.pyplot as plt"
   ]
  },
  {
   "cell_type": "code",
   "execution_count": 7,
   "id": "c6482d12-57aa-4a4f-b6c4-8d715d5d0138",
   "metadata": {},
   "outputs": [
    {
     "data": {
      "text/html": [
       "<div>\n",
       "<style scoped>\n",
       "    .dataframe tbody tr th:only-of-type {\n",
       "        vertical-align: middle;\n",
       "    }\n",
       "\n",
       "    .dataframe tbody tr th {\n",
       "        vertical-align: top;\n",
       "    }\n",
       "\n",
       "    .dataframe thead th {\n",
       "        text-align: right;\n",
       "    }\n",
       "</style>\n",
       "<table border=\"1\" class=\"dataframe\">\n",
       "  <thead>\n",
       "    <tr style=\"text-align: right;\">\n",
       "      <th></th>\n",
       "      <th>x</th>\n",
       "      <th>y</th>\n",
       "    </tr>\n",
       "  </thead>\n",
       "  <tbody>\n",
       "    <tr>\n",
       "      <th>0</th>\n",
       "      <td>235</td>\n",
       "      <td>591</td>\n",
       "    </tr>\n",
       "    <tr>\n",
       "      <th>1</th>\n",
       "      <td>216</td>\n",
       "      <td>539</td>\n",
       "    </tr>\n",
       "    <tr>\n",
       "      <th>2</th>\n",
       "      <td>148</td>\n",
       "      <td>413</td>\n",
       "    </tr>\n",
       "    <tr>\n",
       "      <th>3</th>\n",
       "      <td>35</td>\n",
       "      <td>310</td>\n",
       "    </tr>\n",
       "    <tr>\n",
       "      <th>4</th>\n",
       "      <td>85</td>\n",
       "      <td>308</td>\n",
       "    </tr>\n",
       "    <tr>\n",
       "      <th>5</th>\n",
       "      <td>204</td>\n",
       "      <td>519</td>\n",
       "    </tr>\n",
       "    <tr>\n",
       "      <th>6</th>\n",
       "      <td>49</td>\n",
       "      <td>325</td>\n",
       "    </tr>\n",
       "    <tr>\n",
       "      <th>7</th>\n",
       "      <td>25</td>\n",
       "      <td>332</td>\n",
       "    </tr>\n",
       "    <tr>\n",
       "      <th>8</th>\n",
       "      <td>173</td>\n",
       "      <td>498</td>\n",
       "    </tr>\n",
       "    <tr>\n",
       "      <th>9</th>\n",
       "      <td>191</td>\n",
       "      <td>498</td>\n",
       "    </tr>\n",
       "    <tr>\n",
       "      <th>10</th>\n",
       "      <td>134</td>\n",
       "      <td>392</td>\n",
       "    </tr>\n",
       "    <tr>\n",
       "      <th>11</th>\n",
       "      <td>99</td>\n",
       "      <td>334</td>\n",
       "    </tr>\n",
       "    <tr>\n",
       "      <th>12</th>\n",
       "      <td>117</td>\n",
       "      <td>385</td>\n",
       "    </tr>\n",
       "    <tr>\n",
       "      <th>13</th>\n",
       "      <td>112</td>\n",
       "      <td>387</td>\n",
       "    </tr>\n",
       "    <tr>\n",
       "      <th>14</th>\n",
       "      <td>162</td>\n",
       "      <td>425</td>\n",
       "    </tr>\n",
       "    <tr>\n",
       "      <th>15</th>\n",
       "      <td>272</td>\n",
       "      <td>659</td>\n",
       "    </tr>\n",
       "    <tr>\n",
       "      <th>16</th>\n",
       "      <td>159</td>\n",
       "      <td>400</td>\n",
       "    </tr>\n",
       "    <tr>\n",
       "      <th>17</th>\n",
       "      <td>159</td>\n",
       "      <td>427</td>\n",
       "    </tr>\n",
       "    <tr>\n",
       "      <th>18</th>\n",
       "      <td>59</td>\n",
       "      <td>319</td>\n",
       "    </tr>\n",
       "    <tr>\n",
       "      <th>19</th>\n",
       "      <td>198</td>\n",
       "      <td>522</td>\n",
       "    </tr>\n",
       "  </tbody>\n",
       "</table>\n",
       "</div>"
      ],
      "text/plain": [
       "      x    y\n",
       "0   235  591\n",
       "1   216  539\n",
       "2   148  413\n",
       "3    35  310\n",
       "4    85  308\n",
       "5   204  519\n",
       "6    49  325\n",
       "7    25  332\n",
       "8   173  498\n",
       "9   191  498\n",
       "10  134  392\n",
       "11   99  334\n",
       "12  117  385\n",
       "13  112  387\n",
       "14  162  425\n",
       "15  272  659\n",
       "16  159  400\n",
       "17  159  427\n",
       "18   59  319\n",
       "19  198  522"
      ]
     },
     "execution_count": 7,
     "metadata": {},
     "output_type": "execute_result"
    }
   ],
   "source": [
    "df = pd.read_csv(\"test1Data.csv\")\n",
    "df"
   ]
  },
  {
   "cell_type": "code",
   "execution_count": 8,
   "id": "d39b2d5e-5b96-42c3-b320-23999d0877ff",
   "metadata": {},
   "outputs": [
    {
     "data": {
      "text/plain": [
       "array([[235, 591],\n",
       "       [216, 539],\n",
       "       [148, 413],\n",
       "       [ 35, 310],\n",
       "       [ 85, 308],\n",
       "       [204, 519],\n",
       "       [ 49, 325],\n",
       "       [ 25, 332],\n",
       "       [173, 498],\n",
       "       [191, 498],\n",
       "       [134, 392],\n",
       "       [ 99, 334],\n",
       "       [117, 385],\n",
       "       [112, 387],\n",
       "       [162, 425],\n",
       "       [272, 659],\n",
       "       [159, 400],\n",
       "       [159, 427],\n",
       "       [ 59, 319],\n",
       "       [198, 522]], dtype=int64)"
      ]
     },
     "execution_count": 8,
     "metadata": {},
     "output_type": "execute_result"
    }
   ],
   "source": [
    "npData = df.values\n",
    "npData"
   ]
  },
  {
   "cell_type": "code",
   "execution_count": 9,
   "id": "c42c99d9-109e-429c-9016-f5811fdd7a2e",
   "metadata": {},
   "outputs": [],
   "source": [
    "npx = npData[:,0]\n",
    "npy=npData[:,1]"
   ]
  },
  {
   "cell_type": "code",
   "execution_count": 10,
   "id": "f08a4e2c-42be-463b-bf51-068318d6ce70",
   "metadata": {},
   "outputs": [
    {
     "data": {
      "image/png": "[encoded data removed]",
      "text/plain": [
       "<Figure size 640x480 with 1 Axes>"
      ]
     },
     "metadata": {},
     "output_type": "display_data"
    }
   ],
   "source": [
    "plt.plot(npx,npy,'o')\n",
    "plt.show()\n"
   ]
  },
  {
   "cell_type": "code",
   "execution_count": 11,
   "id": "115b8ac5-a867-46c0-90d2-1922a4d2d973",
   "metadata": {},
   "outputs": [
    {
     "data": {
      "text/plain": [
       "array([0.22330163, 0.01981052, 0.96836264])"
      ]
     },
     "execution_count": 11,
     "metadata": {},
     "output_type": "execute_result"
    }
   ],
   "source": [
    "theta0= np.random.rand(3)\n",
    "theta1=np.random.rand()\n",
    "theta0"
   ]
  },
  {
   "cell_type": "code",
   "execution_count": 21,
   "id": "1ee39218-219b-41e7-bead-25d4699c0cde",
   "metadata": {},
   "outputs": [],
   "source": [
    "def f(x):\n",
    "    return theta0 + theta1 *x\n",
    "    "
   ]
  },
  {
   "cell_type": "code",
   "execution_count": 25,
   "id": "d3637200-d33b-466d-bf8b-dab6c681bae8",
   "metadata": {},
   "outputs": [],
   "source": [
    "def E(x,y):\n",
    "    return 0.5*np.sum( (y - f(x) )**2 )\n",
    "    "
   ]
  },
  {
   "cell_type": "code",
   "execution_count": 35,
   "id": "aa00394b-9ee0-41f3-8a3f-9e7b4f7ac106",
   "metadata": {},
   "outputs": [
    {
     "data": {
      "text/plain": [
       "[<matplotlib.lines.Line2D at 0x20d7b1d5cd0>]"
      ]
     },
     "execution_count": 35,
     "metadata": {},
     "output_type": "execute_result"
    },
    {
     "data": {
      "image/png": "[encoded data removed]",
      "text/plain": [
       "<Figure size 640x480 with 1 Axes>"
      ]
     },
     "metadata": {},
     "output_type": "display_data"
    }
   ],
   "source": [
    "mu=npx.mean()\n",
    "sigma=npx.std()\n",
    "\n",
    "def standardize(x):\n",
    "    return (x - mu)/sigma\n",
    "npz = standardize(npx)\n",
    "plt.plot(npz,npy,'o')"
   ]
  },
  {
   "cell_type": "code",
   "execution_count": 48,
   "id": "bc0a316a-b493-4e53-afe9-4fac9d8c5b0a",
   "metadata": {},
   "outputs": [],
   "source": [
    "ETA=1e-3\n",
    "diff=1\n",
    "count=0\n",
    "error = E(npz, npy)\n"
   ]
  },
  {
   "cell_type": "code",
   "execution_count": null,
   "id": "9e15acd7-7e0d-43c6-80ad-8c20f18be2ca",
   "metadata": {},
   "outputs": [],
   "source": []
  },
  {
   "cell_type": "code",
   "execution_count": null,
   "id": "7524ffdf-19e9-4db1-8226-02bb9b58a552",
   "metadata": {},
   "outputs": [],
   "source": []
  }
 ],
 "metadata": {
  "kernelspec": {
   "display_name": "Python 3 (ipykernel)",
   "language": "python",
   "name": "python3"
  },
  "language_info": {
   "codemirror_mode": {
    "name": "ipython",
    "version": 3
   },
   "file_extension": ".py",
   "mimetype": "text/x-python",
   "name": "python",
   "nbconvert_exporter": "python",
   "pygments_lexer": "ipython3",
   "version": "3.9.21"
  }
 },
 "nbformat": 4,
 "nbformat_minor": 5
}
