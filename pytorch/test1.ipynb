{
 "cells": [
  {
   "cell_type": "code",
   "execution_count": 5,
   "id": "2ac6f0ff-dcaf-45ad-bf0b-cf98ab439d02",
   "metadata": {},
   "outputs": [],
   "source": [
    "import torch\n",
    "\n"
   ]
  },
  {
   "cell_type": "code",
   "execution_count": 15,
   "id": "26099d2a-ec71-4621-8304-7c1f5572a279",
   "metadata": {},
   "outputs": [
    {
     "name": "stdout",
     "output_type": "stream",
     "text": [
      "tensor([[0.1522, 0.7610, 0.9228],\n",
      "        [0.9190, 0.2340, 0.8556],\n",
      "        [0.1343, 0.8774, 0.7944],\n",
      "        [0.1321, 0.0413, 0.5023]])\n",
      "tensor([[0.9954, 0.1664, 0.4362],\n",
      "        [0.4432, 0.3103, 0.6593],\n",
      "        [0.8202, 0.4467, 0.9401],\n",
      "        [0.5654, 0.6659, 0.8444]])\n"
     ]
    }
   ],
   "source": [
    "x = torch.rand(4,3)\n",
    "y=torch.rand(4,3)\n",
    "print(x)\n",
    "print(y)"
   ]
  },
  {
   "cell_type": "code",
   "execution_count": 17,
   "id": "38b960ed-6e14-4e76-a036-31e456a3acdb",
   "metadata": {},
   "outputs": [
    {
     "name": "stdout",
     "output_type": "stream",
     "text": [
      "tensor([[1.1476, 0.9274, 1.3590],\n",
      "        [1.3622, 0.5443, 1.5149],\n",
      "        [0.9545, 1.3241, 1.7346],\n",
      "        [0.6974, 0.7073, 1.3468]])\n"
     ]
    },
    {
     "data": {
      "text/plain": [
       "tensor([[1.1476, 0.9274, 1.3590],\n",
       "        [1.3622, 0.5443, 1.5149],\n",
       "        [0.9545, 1.3241, 1.7346],\n",
       "        [0.6974, 0.7073, 1.3468]])"
      ]
     },
     "execution_count": 17,
     "metadata": {},
     "output_type": "execute_result"
    }
   ],
   "source": [
    "print(x+y)\n",
    "y.add(x)"
   ]
  },
  {
   "cell_type": "code",
   "execution_count": 17,
   "id": "298c3e3f-c066-4fde-bc2a-05f47ae217d8",
   "metadata": {},
   "outputs": [
    {
     "name": "stdout",
     "output_type": "stream",
     "text": [
      "tensor([[1., 1.],\n",
      "        [1., 1.]], requires_grad=True)\n",
      "tensor([[1., 1.],\n",
      "        [1., 1.]], grad_fn=<PowBackward0>)\n",
      "None\n",
      "tensor([[1., 1.],\n",
      "        [1., 1.]])\n",
      "tensor([[2., 2.],\n",
      "        [2., 2.]])\n"
     ]
    }
   ],
   "source": [
    "x=torch.ones((2,2),requires_grad=True)\n",
    "print(x)\n",
    "print(x**2)\n",
    "y=x.sum()\n",
    "print(x.grad)\n",
    "y.backward()\n",
    "print(x.grad)\n",
    "x.sum().backward()\n",
    "print(x.grad)"
   ]
  },
  {
   "cell_type": "code",
   "execution_count": null,
   "id": "613328b1-8ac0-49e3-9b46-451954169ab7",
   "metadata": {},
   "outputs": [],
   "source": []
  }
 ],
 "metadata": {
  "kernelspec": {
   "display_name": "Python 3 (ipykernel)",
   "language": "python",
   "name": "python3"
  },
  "language_info": {
   "codemirror_mode": {
    "name": "ipython",
    "version": 3
   },
   "file_extension": ".py",
   "mimetype": "text/x-python",
   "name": "python",
   "nbconvert_exporter": "python",
   "pygments_lexer": "ipython3",
   "version": "3.9.21"
  }
 },
 "nbformat": 4,
 "nbformat_minor": 5
}
