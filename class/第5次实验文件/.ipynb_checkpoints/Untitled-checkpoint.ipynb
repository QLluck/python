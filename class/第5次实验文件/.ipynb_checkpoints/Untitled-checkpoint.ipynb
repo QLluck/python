{
 "cells": [
  {
   "cell_type": "code",
   "execution_count": null,
   "id": "a853a64d-7d1f-4abc-b643-5a389f394f40",
   "metadata": {},
   "outputs": [],
   "source": []
  },
  {
   "cell_type": "markdown",
   "id": "3fc07002-8247-4386-9a65-23e490a59e05",
   "metadata": {},
   "source": []
  }
 ],
 "metadata": {
  "kernelspec": {
   "display_name": "Python 3 (ipykernel)",
   "language": "python",
   "name": "python3"
  },
  "language_info": {
   "codemirror_mode": {
    "name": "ipython",
    "version": 3
   },
   "file_extension": ".py",
   "mimetype": "text/x-python",
   "name": "python",
   "nbconvert_exporter": "python",
   "pygments_lexer": "ipython3",
   "version": "3.9.21"
  }
 },
 "nbformat": 4,
 "nbformat_minor": 5
}
